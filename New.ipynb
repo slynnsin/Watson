{
 "cells": [
  {
   "cell_type": "markdown",
   "metadata": {
    "collapsed": true
   },
   "source": [
    "# My Jupyter Notebook on IBM Watson Studio"
   ]
  },
  {
   "cell_type": "markdown",
   "metadata": {},
   "source": [
    "**Sarah Sindeband**\n",
    "\n",
    "Desired occupation: computational biologist"
   ]
  },
  {
   "cell_type": "markdown",
   "metadata": {},
   "source": [
    "*I am interested in data science because I want to use my domain knowledge in biology to analyze data in research.*"
   ]
  },
  {
   "cell_type": "markdown",
   "metadata": {},
   "source": [
    "### The code below will add the two numbers to produce the sum (output)."
   ]
  },
  {
   "cell_type": "code",
   "execution_count": 1,
   "metadata": {},
   "outputs": [
    {
     "data": {
      "text/plain": [
       "2"
      ]
     },
     "execution_count": 1,
     "metadata": {},
     "output_type": "execute_result"
    }
   ],
   "source": [
    "1 + 1"
   ]
  },
  {
   "cell_type": "markdown",
   "metadata": {},
   "source": [
    "### Here is a list of the fish I currently have:\n",
    "- pea puffers\n",
    "- platy\n",
    "- guppies\n",
    "- kuhli loach\n",
    "- bristlenose pleco\n",
    "- otto cat fish\n",
    "- sword tails\n",
    "\n",
    "***\n",
    "\n",
    "### A list of my new projects for my aquarium hobby\n",
    "1. 55 gallon harry potter tank\n",
    "2. 20 gallon set up for musk turtle\n",
    "3. pea puffer breeding tank\n",
    "4. outdoor mini pond for breeding\n",
    "5. 20 gallon set up for my panther crab"
   ]
  },
  {
   "cell_type": "code",
   "execution_count": null,
   "metadata": {},
   "outputs": [],
   "source": []
  }
 ],
 "metadata": {
  "kernelspec": {
   "display_name": "Python 3.9 with Spark",
   "language": "python3",
   "name": "python39"
  },
  "language_info": {
   "codemirror_mode": {
    "name": "ipython",
    "version": 3
   },
   "file_extension": ".py",
   "mimetype": "text/x-python",
   "name": "python",
   "nbconvert_exporter": "python",
   "pygments_lexer": "ipython3",
   "version": "3.9.13"
  }
 },
 "nbformat": 4,
 "nbformat_minor": 1
}
